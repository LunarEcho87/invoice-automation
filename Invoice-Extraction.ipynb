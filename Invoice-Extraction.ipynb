{
 "cells": [
  {
   "cell_type": "code",
   "execution_count": null,
   "metadata": {},
   "outputs": [],
   "source": [
    "#This program opens nanonets with your API_Key and your model_id and load the scanned data into a variable\n",
    "from dotenv import load_dotenv\n",
    "import os\n",
    "import json\n",
    "import requests\n",
    "import pandas as pd\n",
    "\n",
    "# Load environment variables\n",
    "load_dotenv()\n",
    "api_key = os.getenv(\"API_KEY\") #Replace the variable API_Key in your .env file with your Api Key\n",
    "#print(\"API Key from environment:\", api_key)\n",
    "\n",
    "# Nanonets API endpoint and headers\n",
    "model_id = 'nanonetsmodelid' #Replace it with your model id from Nanonets\n",
    "url = f'https://app.nanonets.com/api/v2/OCR/Model/{model_id}/LabelFile/?async=false'\n",
    "headers = {\n",
    "    'Authorization': f'Bearer {api_key}'\n",
    "}\n",
    "\n",
    "# Prepare file data\n",
    "file_path = r'./invoice.pdf'\n",
    "data = {'file': open(file_path, 'rb')}\n",
    "\n",
    "# Send POST request to Nanonets API\n",
    "response = requests.post(url, auth=requests.auth.HTTPBasicAuth(api_key, ''), files=data)"
   ]
  },
  {
   "cell_type": "code",
   "execution_count": null,
   "metadata": {},
   "outputs": [],
   "source": [
    "#This code print the data from the file to control if it is working\n",
    "print(json.dumps(response.text, indent=4))"
   ]
  },
  {
   "cell_type": "code",
   "execution_count": 5,
   "metadata": {},
   "outputs": [
    {
     "name": "stdout",
     "output_type": "stream",
     "text": [
      "currency\n"
     ]
    }
   ],
   "source": [
    "#This code search for specific categories and print them in the terminal without some datas\n",
    "print(response.json()[\"result\"][0][\"prediction\"][0][\"label\"])"
   ]
  },
  {
   "cell_type": "code",
   "execution_count": null,
   "metadata": {},
   "outputs": [],
   "source": [
    "#This code is searching fr the specific datas for the specific categories\n",
    "data = response.json()[\"result\"][0][\"prediction\"]\n",
    "def find_json_object_with_key_value(lst, key, value):\n",
    "    for obj in lst:\n",
    "        if obj.get(key) == value:\n",
    "            return obj\n",
    "    return None\n",
    "\n",
    "key_to_search =\"label\" \n",
    "value_to_search0 =\"Total_Amount\" \n",
    "value_to_search1 =\"currency\"\n",
    "value_to_search2 =\"Merchant_Name\"\n",
    "value_to_search3 =\"Receipt_Number\"\n",
    "#The code above follows a specific jsonpath with specific keys and gives back those datas\n",
    "#If you re searching for specific categories search in the json file for the keys and change them with the value_to_search varaibles\n",
    "result0 = find_json_object_with_key_value(data, key_to_search, value_to_search0)\n",
    "result1 = find_json_object_with_key_value(data, key_to_search, value_to_search1)\n",
    "result2 = find_json_object_with_key_value(data, key_to_search, value_to_search2)\n",
    "result3 = find_json_object_with_key_value(data, key_to_search, value_to_search3)\n",
    "#In this code above the code extract the datas from the json file depending on the keys"
   ]
  },
  {
   "cell_type": "code",
   "execution_count": 137,
   "metadata": {},
   "outputs": [
    {
     "name": "stdout",
     "output_type": "stream",
     "text": [
      "Specific categories have been extracted and saved to CSV successfully.\n"
     ]
    }
   ],
   "source": [
    "#This code loads the datas into a csv-file, but is not able paste in datas without any value \n",
    "#If you want to have an excel-file  replace the csv at the end of the variable output_csv_path to excel\n",
    "import json\n",
    "import pandas as pd\n",
    "\n",
    "# Combine results into a JSON-like string\n",
    "combined_data = {\n",
    "    \"Total_Amount\": result0[\"ocr_text\"],\n",
    "    \"currency\": result1[\"ocr_text\"],\n",
    "    \"Merchant_Name\": result2[\"ocr_text\"],\n",
    "    \"Receipt_Number\": result3[\"ocr_text\"],\n",
    "}\n",
    "# Load JSON data from the file\n",
    "json_file_path = r'.\\Untitled-4.json'  # Replace it with the path to your generated jsonfile\n",
    "with open(json_file_path) as json_file:\n",
    "    existing_data = json.load(json_file)\n",
    "\n",
    "# Update existing JSON data with the combined data\n",
    "existing_data[\"combined_data\"] = combined_data\n",
    "\n",
    "# Save the updated JSON data back to the file\n",
    "with open(json_file_path, 'w') as json_file:\n",
    "    json.dump(existing_data, json_file, indent=4)\n",
    "\n",
    "# Convert JSON to a pandas DataFrame\n",
    "df = pd.json_normalize(existing_data)\n",
    "\n",
    "# Save DataFrame to CSV\n",
    "output_csv_path = r'.\\Test.csv' #Replace it with the path to your csv-file\n",
    "df.to_csv(output_csv_path, index=False)\n",
    "print(\"Specific categories have been extracted and saved to CSV successfully.\")\n",
    "#At the end it creates a message if everything was working"
   ]
  },
  {
   "cell_type": "code",
   "execution_count": null,
   "metadata": {},
   "outputs": [],
   "source": [
    "#This code is like the code above but can deal with no datas from the json file and print \"No data available\"\n",
    "import json\n",
    "import pandas as pd\n",
    "\n",
    "# Combine results into a JSON-like string\n",
    "combined_data = {}\n",
    "\n",
    "if result0[\"ocr_text\"]:\n",
    "    combined_data[\"Total_Amount\"] = result0[\"ocr_text\"]\n",
    "else:\n",
    "    combined_data[\"Total_Amount\"] = \"No data available\"\n",
    "\n",
    "if result1[\"ocr_text\"]:\n",
    "    combined_data[\"currency\"] = result1[\"ocr_text\"]\n",
    "else:\n",
    "    combined_data[\"currency\"] = \"No data available\"\n",
    "\n",
    "if result2[\"ocr_text\"]:\n",
    "    combined_data[\"Merchant_Name\"] = result2[\"ocr_text\"]\n",
    "else:\n",
    "    combined_data[\"Merchant_Name\"] = \"No data available\"\n",
    "\n",
    "if result3[\"ocr_text\"]:\n",
    "    combined_data[\"Receipt_Number\"] = result3[\"ocr_text\"]\n",
    "else:\n",
    "    combined_data[\"Receipt_Number\"] = \"No data available\"\n",
    "\n",
    "# Load JSON data from the file\n",
    "json_file_path = r'.\\Untitled-4.json'  # Replace it with the path to your generated jsonfile\n",
    "with open(json_file_path) as json_file:\n",
    "    existing_data = json.load(json_file)\n",
    "\n",
    "# Update existing JSON data with the combined data\n",
    "existing_data[\"combined_data\"] = combined_data\n",
    "\n",
    "# Save the updated JSON data back to the file\n",
    "with open(json_file_path, 'w') as json_file:\n",
    "    json.dump(existing_data, json_file, indent=4)\n",
    "\n",
    "# Convert JSON to a pandas DataFrame\n",
    "df = pd.json_normalize(existing_data)\n",
    "\n",
    "# Save DataFrame to CSV\n",
    "output_csv_path = r'.\\Test.csv' #Replace it with the path to your csv-file\n",
    "df.to_csv(output_csv_path, index=False)\n",
    "print(\"Specific categories have been extracted and saved to CSV successfully.\")\n",
    "#At the end it creates a message if everything was working"
   ]
  }
 ],
 "metadata": {
  "kernelspec": {
   "display_name": "Python 3",
   "language": "python",
   "name": "python3"
  },
  "language_info": {
   "codemirror_mode": {
    "name": "ipython",
    "version": 3
   },
   "file_extension": ".py",
   "mimetype": "text/x-python",
   "name": "python",
   "nbconvert_exporter": "python",
   "pygments_lexer": "ipython3",
   "version": "3.10.11"
  },
  "orig_nbformat": 4
 },
 "nbformat": 4,
 "nbformat_minor": 2
}
